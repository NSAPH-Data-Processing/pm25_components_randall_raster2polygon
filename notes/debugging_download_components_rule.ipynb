{
 "cells": [
  {
   "cell_type": "markdown",
   "id": "d38cba49",
   "metadata": {},
   "source": [
    "## Working with components\n",
    "\n",
    "Line by line rerun of the download components rule"
   ]
  },
  {
   "cell_type": "code",
   "execution_count": 15,
   "id": "8425b5a7",
   "metadata": {},
   "outputs": [],
   "source": [
    "import os\n",
    "import time\n",
    "import hydra\n",
    "import logging\n",
    "import zipfile\n",
    "from selenium import webdriver\n",
    "from selenium.webdriver.common.by import By\n",
    "from selenium.webdriver.support.ui import WebDriverWait\n",
    "from selenium.webdriver.support import expected_conditions as EC\n",
    "from selenium.webdriver.chrome.options import Options\n"
   ]
  },
  {
   "cell_type": "code",
   "execution_count": 16,
   "id": "8672ea3f",
   "metadata": {},
   "outputs": [],
   "source": [
    "# from webdriver_manager.chrome import ChromeDriverManager\n",
    "import shutil\n",
    "\n",
    "logger = logging.getLogger(__name__)"
   ]
  },
  {
   "cell_type": "markdown",
   "id": "e5c6276a",
   "metadata": {},
   "source": [
    "Diving into the main function"
   ]
  },
  {
   "cell_type": "code",
   "execution_count": 17,
   "id": "e634bc97",
   "metadata": {},
   "outputs": [],
   "source": [
    "from hydra import initialize, compose\n",
    "from omegaconf import OmegaConf\n",
    "\n",
    "# unfortunately, we have to use the initialize function to load the config file\n",
    "# this is because the @hydra decorator does not work with Notebooks very well\n",
    "# this is a known issue with Hydra: https://gist.github.com/bdsaglam/586704a98336a0cf0a65a6e7c247d248\n",
    "# \n",
    "# just use the relative path from the notebook to the config dir\n",
    "with initialize(version_base=None, config_path=\"../conf\"):\n",
    "    cfg = compose(config_name='config.yaml')\n",
    "\n",
    "hydra_cfg = cfg"
   ]
  },
  {
   "cell_type": "code",
   "execution_count": 18,
   "id": "e92a82c3",
   "metadata": {},
   "outputs": [
    {
     "data": {
      "text/plain": [
       "'monthly'"
      ]
     },
     "execution_count": 18,
     "metadata": {},
     "output_type": "execute_result"
    }
   ],
   "source": [
    "hydra_cfg['temporal_freq']"
   ]
  },
  {
   "cell_type": "code",
   "execution_count": 49,
   "id": "cc4375a7",
   "metadata": {},
   "outputs": [],
   "source": [
    "component = cfg.component[7]\n",
    "url_cfg = cfg.satellite_component[cfg.temporal_freq]\n",
    "url = url_cfg.url[component]"
   ]
  },
  {
   "cell_type": "code",
   "execution_count": 50,
   "id": "5f8de4b9",
   "metadata": {},
   "outputs": [
    {
     "data": {
      "text/plain": [
       "'https://wustl.app.box.com/s/tfyt4uyuzbt4hbnw7bhos16aep9b5u7g/folder/257368204252'"
      ]
     },
     "execution_count": 50,
     "metadata": {},
     "output_type": "execute_result"
    }
   ],
   "source": [
    "url"
   ]
  },
  {
   "cell_type": "code",
   "execution_count": 51,
   "id": "153adf54",
   "metadata": {},
   "outputs": [],
   "source": [
    "download_dir = (\n",
    "    f\"../data/input/satellite_components/{cfg.temporal_freq}/{component}\"\n",
    ")\n",
    "download_dir = os.path.abspath(download_dir)  # make absolute path\n",
    "download_zip = f\"{download_dir}/{url_cfg.zipname}.zip\"\n",
    "src_dir = f\"{download_dir}/{url_cfg.zipname}\"\n",
    "dest_dir = f\"{download_dir}/\""
   ]
  },
  {
   "cell_type": "code",
   "execution_count": 52,
   "id": "bc96a516",
   "metadata": {},
   "outputs": [],
   "source": [
    "# == setup chrome driver\n",
    "# Set up Chrome options for headless mode and automatic downloads\n",
    "chrome_options = Options()\n",
    "chrome_options.add_argument(\"--headless=new\")\n",
    "chrome_options.add_experimental_option(\n",
    "    \"prefs\",\n",
    "    {\n",
    "        \"download.default_directory\": download_dir,\n",
    "        \"savefile.default_directory\": download_dir,\n",
    "        \"download.prompt_for_download\": False,\n",
    "        \"download.directory_upgrade\": True,\n",
    "        \"safebrowsing.enabled\": True,\n",
    "    },\n",
    ")"
   ]
  },
  {
   "cell_type": "code",
   "execution_count": 53,
   "id": "0991b338",
   "metadata": {},
   "outputs": [],
   "source": [
    "# Setting up the Selenium WebDriver for Chrome using webdriver_manager\n",
    "# ChromeDriverManager().install()\n",
    "driver = webdriver.Chrome(options=chrome_options)\n",
    "logger.info(\"Chrome driver setup completed.\")"
   ]
  },
  {
   "cell_type": "markdown",
   "id": "7bcaeb88",
   "metadata": {},
   "source": [
    "Into the try statement"
   ]
  },
  {
   "cell_type": "code",
   "execution_count": 54,
   "id": "cd9afcc8",
   "metadata": {},
   "outputs": [],
   "source": [
    "driver.get(url)"
   ]
  },
  {
   "cell_type": "code",
   "execution_count": 55,
   "id": "18bdf1dc",
   "metadata": {},
   "outputs": [],
   "source": [
    "driver.refresh()"
   ]
  },
  {
   "cell_type": "code",
   "execution_count": 56,
   "id": "dfbc4297",
   "metadata": {},
   "outputs": [],
   "source": [
    "download_button = WebDriverWait(driver, 10).until(\n",
    "    EC.element_to_be_clickable(\n",
    "        (By.CSS_SELECTOR, \"button[aria-label='Download']\")\n",
    "    )\n",
    ")"
   ]
  },
  {
   "cell_type": "code",
   "execution_count": 57,
   "id": "9fc69b72",
   "metadata": {},
   "outputs": [],
   "source": [
    "# Click the button\n",
    "download_button.click()\n",
    "logger.info(\"Downloading...\")\n",
    "\n",
    "# Wait to make sure the file has downloaded\n",
    "while not os.path.exists(download_zip):\n",
    "    time.sleep(5)  # seconds\n",
    "logger.info(\"Download completed.\")"
   ]
  },
  {
   "cell_type": "code",
   "execution_count": 58,
   "id": "506d5d50",
   "metadata": {},
   "outputs": [],
   "source": [
    "with zipfile.ZipFile(download_zip, \"r\") as zip_ref:\n",
    "    zip_ref.extractall(download_dir)\n",
    "\n",
    "# Move all files from the src_dir to dest_dir\n",
    "os.makedirs(dest_dir, exist_ok=True)\n",
    "for file in os.listdir(src_dir):\n",
    "    shutil.move(os.path.join(src_dir, file), dest_dir)\n",
    "\n",
    "# Remove the zip file and the empty folder\n",
    "os.remove(download_zip)\n",
    "os.rmdir(src_dir)\n"
   ]
  },
  {
   "cell_type": "code",
   "execution_count": null,
   "id": "c7b83624",
   "metadata": {},
   "outputs": [],
   "source": []
  },
  {
   "cell_type": "markdown",
   "id": "83112278",
   "metadata": {},
   "source": [
    "This seems to work, so we should be able to run it in main."
   ]
  },
  {
   "cell_type": "markdown",
   "id": "7475a46f",
   "metadata": {},
   "source": []
  }
 ],
 "metadata": {
  "kernelspec": {
   "display_name": "satellite_pm25_raster2polygon",
   "language": "python",
   "name": "python3"
  },
  "language_info": {
   "codemirror_mode": {
    "name": "ipython",
    "version": 3
   },
   "file_extension": ".py",
   "mimetype": "text/x-python",
   "name": "python",
   "nbconvert_exporter": "python",
   "pygments_lexer": "ipython3",
   "version": "3.11.13"
  }
 },
 "nbformat": 4,
 "nbformat_minor": 5
}
