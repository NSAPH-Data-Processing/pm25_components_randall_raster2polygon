{
 "cells": [
  {
   "cell_type": "markdown",
   "id": "d38cba49",
   "metadata": {},
   "source": [
    "## Working with components\n",
    "\n",
    "We need to figure out how to load all of the component as listed in the PR. Just following the code in aggregate_components.py "
   ]
  },
  {
   "cell_type": "code",
   "execution_count": 1,
   "id": "8425b5a7",
   "metadata": {},
   "outputs": [],
   "source": [
    "import xarray\n",
    "import rasterio\n",
    "import pandas as pd\n",
    "import geopandas as gpd\n",
    "import numpy as np\n",
    "import hydra\n",
    "import logging  \n",
    "import matplotlib.pyplot as plt"
   ]
  },
  {
   "cell_type": "code",
   "execution_count": 2,
   "id": "e50fd11a",
   "metadata": {},
   "outputs": [],
   "source": [
    "from hydra.core.hydra_config import HydraConfig"
   ]
  },
  {
   "cell_type": "markdown",
   "id": "adc8c040",
   "metadata": {},
   "source": [
    "Get the utils and src packages ready"
   ]
  },
  {
   "cell_type": "code",
   "execution_count": 3,
   "id": "e58dc8d3",
   "metadata": {},
   "outputs": [],
   "source": [
    "import os\n",
    "import sys\n",
    "\n",
    "sys.path.append(\"../\")\n",
    "from utils.faster_zonal_stats import polygon_to_raster_cells"
   ]
  },
  {
   "cell_type": "code",
   "execution_count": 4,
   "id": "449a06c1",
   "metadata": {},
   "outputs": [],
   "source": [
    "# configure logger to print at info level\n",
    "logging.basicConfig(level=logging.INFO)\n",
    "LOGGER = logging.getLogger(__name__)"
   ]
  },
  {
   "cell_type": "code",
   "execution_count": 5,
   "id": "c3dd7a0a",
   "metadata": {},
   "outputs": [],
   "source": [
    "def available_shapefile_year(year, shapefile_years_list: list):\n",
    "    \"\"\"\n",
    "    Given a list of shapefile years,\n",
    "    return the latest year in the shapefile_years_list that is less than or equal to the given year\n",
    "    \"\"\"\n",
    "    for shapefile_year in sorted(shapefile_years_list, reverse=True):\n",
    "        if year >= shapefile_year:\n",
    "            return shapefile_year\n",
    " \n",
    "    return min(shapefile_years_list)  # Returns the last element if year is greater than the last element\n"
   ]
  },
  {
   "cell_type": "code",
   "execution_count": 6,
   "id": "85f7adb1",
   "metadata": {},
   "outputs": [],
   "source": [
    "from hydra import initialize, compose\n",
    "from omegaconf import OmegaConf\n",
    "\n",
    "# unfortunately, we have to use the initialize function to load the config file\n",
    "# this is because the @hydra decorator does not work with Notebooks very well\n",
    "# this is a known issue with Hydra: https://gist.github.com/bdsaglam/586704a98336a0cf0a65a6e7c247d248\n",
    "# \n",
    "# just use the relative path from the notebook to the config dir\n",
    "with initialize(version_base=None, config_path=\"../conf\"):\n",
    "    cfg = compose(config_name='config.yaml')\n",
    "\n",
    "hydra_cfg = cfg"
   ]
  },
  {
   "cell_type": "markdown",
   "id": "41cea1aa",
   "metadata": {},
   "source": [
    "Getting the list of shapefiles for debugging:"
   ]
  },
  {
   "cell_type": "code",
   "execution_count": 7,
   "id": "8b218511",
   "metadata": {},
   "outputs": [],
   "source": [
    "temporal_freq = cfg['temporal_freq']\n",
    "polygon_name = cfg['polygon_name']\n",
    "components = ['no3']\n",
    "\n",
    "satellite_pm25_cfg = hydra_cfg.satellite_pm25\n",
    "shapefiles_cfg = hydra_cfg.shapefiles\n",
    "\n",
    "months_list = \"01\" if temporal_freq == 'yearly' else [str(i).zfill(2) for i in range(1, 12 + 1)]\n",
    "years_list = list(range(1998, 2022 + 1))"
   ]
  },
  {
   "cell_type": "code",
   "execution_count": 8,
   "id": "97d45ae4",
   "metadata": {},
   "outputs": [
    {
     "name": "stderr",
     "output_type": "stream",
     "text": [
      "INFO:__main__:Running for: monthly zcta 2020\n",
      "INFO:__main__:Loading shapefile.\n"
     ]
    }
   ],
   "source": [
    "LOGGER.info(f\"Running for: {cfg.temporal_freq} {cfg.polygon_name} {cfg.year}\")\n",
    "#logging_dir = HydraConfig.get().runtime.output_dir\n",
    "\n",
    "# == load shapefile\n",
    "LOGGER.info(\"Loading shapefile.\")\n",
    "shapefile_years_list = list(cfg.shapefiles[cfg.polygon_name].keys())\n",
    "#use previously available shapefile\n",
    "shapefile_year = available_shapefile_year(cfg.year, shapefile_years_list)\n",
    "\n",
    "shape_path = f'../data/input/shapefiles/shapefile_{cfg.polygon_name}_{shapefile_year}/shapefile.shp'\n",
    "polygon = gpd.read_file(shape_path)\n",
    "polygon_ids = polygon[cfg.shapefiles[cfg.polygon_name][shapefile_year].idvar].values\n"
   ]
  },
  {
   "cell_type": "code",
   "execution_count": 9,
   "id": "5fcbcc63",
   "metadata": {},
   "outputs": [],
   "source": [
    "# == filenames to be aggregated\n",
    "if cfg.temporal_freq == \"yearly\":\n",
    "    filenames = [\n",
    "        f\"{cfg.satellite_pm25[cfg.temporal_freq].file_prefix}.{cfg.year}01-{cfg.year}12.nc\"\n",
    "    ]\n",
    "elif cfg.temporal_freq == \"monthly\": \n",
    "    # Note; will use the january file for obtaining the mapping from geometries to raster cells\n",
    "    # the aggregation for the all the months will be done using the same mapping later\n",
    "    filenames = []\n",
    "    for m in range(1, 13):\n",
    "        filenames.append(f\"{cfg.satellite_pm25[cfg.temporal_freq].file_prefix}.{cfg.year}{m:02d}-{cfg.year}{m:02d}.nc\")\n",
    "else:\n",
    "    raise ValueError(f\"temporal_freq {cfg.temporal_freq} not supported\")\n"
   ]
  },
  {
   "cell_type": "code",
   "execution_count": 18,
   "id": "640b5f45",
   "metadata": {},
   "outputs": [
    {
     "ename": "IndexError",
     "evalue": "list index out of range",
     "output_type": "error",
     "traceback": [
      "\u001b[31m---------------------------------------------------------------------------\u001b[39m",
      "\u001b[31mIndexError\u001b[39m                                Traceback (most recent call last)",
      "\u001b[36mCell\u001b[39m\u001b[36m \u001b[39m\u001b[32mIn[18]\u001b[39m\u001b[32m, line 1\u001b[39m\n\u001b[32m----> \u001b[39m\u001b[32m1\u001b[39m \u001b[38;5;28mprint\u001b[39m(\u001b[43mfilenames\u001b[49m\u001b[43m[\u001b[49m\u001b[32;43m12\u001b[39;49m\u001b[43m]\u001b[49m)\n\u001b[32m      2\u001b[39m \u001b[38;5;28mprint\u001b[39m(cfg.temporal_freq)\n",
      "\u001b[31mIndexError\u001b[39m: list index out of range"
     ]
    }
   ],
   "source": [
    "print(filenames[12])\n",
    "print(cfg.temporal_freq)"
   ]
  },
  {
   "cell_type": "code",
   "execution_count": 11,
   "id": "8723d7cc",
   "metadata": {},
   "outputs": [
    {
     "ename": "FileNotFoundError",
     "evalue": "[Errno 2] No such file or directory: '/net/rcstorenfs02/ifs/rc_labs/dominici_lab/lab/data_processing/tinashe_pm25_washu_raster2polygon/pm25_washu_raster2polygon/data/input/pm25__washu__raw/monthly/V5GL04.HybridPM25c_0p10.NorthAmerica.202001-202001.nc'",
     "output_type": "error",
     "traceback": [
      "\u001b[31m---------------------------------------------------------------------------\u001b[39m",
      "\u001b[31mKeyError\u001b[39m                                  Traceback (most recent call last)",
      "\u001b[36mFile \u001b[39m\u001b[32m~/.conda/envs/satellite_pm25_raster2polygon/lib/python3.11/site-packages/xarray/backends/file_manager.py:211\u001b[39m, in \u001b[36mCachingFileManager._acquire_with_cache_info\u001b[39m\u001b[34m(self, needs_lock)\u001b[39m\n\u001b[32m    210\u001b[39m \u001b[38;5;28;01mtry\u001b[39;00m:\n\u001b[32m--> \u001b[39m\u001b[32m211\u001b[39m     file = \u001b[38;5;28;43mself\u001b[39;49m\u001b[43m.\u001b[49m\u001b[43m_cache\u001b[49m\u001b[43m[\u001b[49m\u001b[38;5;28;43mself\u001b[39;49m\u001b[43m.\u001b[49m\u001b[43m_key\u001b[49m\u001b[43m]\u001b[49m\n\u001b[32m    212\u001b[39m \u001b[38;5;28;01mexcept\u001b[39;00m \u001b[38;5;167;01mKeyError\u001b[39;00m:\n",
      "\u001b[36mFile \u001b[39m\u001b[32m~/.conda/envs/satellite_pm25_raster2polygon/lib/python3.11/site-packages/xarray/backends/lru_cache.py:56\u001b[39m, in \u001b[36mLRUCache.__getitem__\u001b[39m\u001b[34m(self, key)\u001b[39m\n\u001b[32m     55\u001b[39m \u001b[38;5;28;01mwith\u001b[39;00m \u001b[38;5;28mself\u001b[39m._lock:\n\u001b[32m---> \u001b[39m\u001b[32m56\u001b[39m     value = \u001b[38;5;28;43mself\u001b[39;49m\u001b[43m.\u001b[49m\u001b[43m_cache\u001b[49m\u001b[43m[\u001b[49m\u001b[43mkey\u001b[49m\u001b[43m]\u001b[49m\n\u001b[32m     57\u001b[39m     \u001b[38;5;28mself\u001b[39m._cache.move_to_end(key)\n",
      "\u001b[31mKeyError\u001b[39m: [<class 'netCDF4._netCDF4.Dataset'>, ('/net/rcstorenfs02/ifs/rc_labs/dominici_lab/lab/data_processing/tinashe_pm25_washu_raster2polygon/pm25_washu_raster2polygon/data/input/pm25__washu__raw/monthly/V5GL04.HybridPM25c_0p10.NorthAmerica.202001-202001.nc',), 'r', (('clobber', True), ('diskless', False), ('format', 'NETCDF4'), ('persist', False)), 'dc64677a-90c0-44d3-9e12-88b32c8c8b42']",
      "\nDuring handling of the above exception, another exception occurred:\n",
      "\u001b[31mFileNotFoundError\u001b[39m                         Traceback (most recent call last)",
      "\u001b[36mCell\u001b[39m\u001b[36m \u001b[39m\u001b[32mIn[11]\u001b[39m\u001b[32m, line 3\u001b[39m\n\u001b[32m      1\u001b[39m \u001b[38;5;66;03m#LOGGER.info(\"Mapping polygons to raster cells.\")\u001b[39;00m\n\u001b[32m----> \u001b[39m\u001b[32m3\u001b[39m ds = \u001b[43mxarray\u001b[49m\u001b[43m.\u001b[49m\u001b[43mopen_dataset\u001b[49m\u001b[43m(\u001b[49m\u001b[33;43mf\u001b[39;49m\u001b[33;43m\"\u001b[39;49m\u001b[33;43m../data/input/pm25__washu__raw/\u001b[39;49m\u001b[38;5;132;43;01m{\u001b[39;49;00m\u001b[43mcfg\u001b[49m\u001b[43m.\u001b[49m\u001b[43mtemporal_freq\u001b[49m\u001b[38;5;132;43;01m}\u001b[39;49;00m\u001b[33;43m/\u001b[39;49m\u001b[38;5;132;43;01m{\u001b[39;49;00m\u001b[43mfilenames\u001b[49m\u001b[43m[\u001b[49m\u001b[32;43m0\u001b[39;49m\u001b[43m]\u001b[49m\u001b[38;5;132;43;01m}\u001b[39;49;00m\u001b[33;43m\"\u001b[39;49m\u001b[43m)\u001b[49m\n",
      "\u001b[36mFile \u001b[39m\u001b[32m~/.conda/envs/satellite_pm25_raster2polygon/lib/python3.11/site-packages/xarray/backends/api.py:572\u001b[39m, in \u001b[36mopen_dataset\u001b[39m\u001b[34m(filename_or_obj, engine, chunks, cache, decode_cf, mask_and_scale, decode_times, decode_timedelta, use_cftime, concat_characters, decode_coords, drop_variables, inline_array, chunked_array_type, from_array_kwargs, backend_kwargs, **kwargs)\u001b[39m\n\u001b[32m    560\u001b[39m decoders = _resolve_decoders_kwargs(\n\u001b[32m    561\u001b[39m     decode_cf,\n\u001b[32m    562\u001b[39m     open_backend_dataset_parameters=backend.open_dataset_parameters,\n\u001b[32m   (...)\u001b[39m\u001b[32m    568\u001b[39m     decode_coords=decode_coords,\n\u001b[32m    569\u001b[39m )\n\u001b[32m    571\u001b[39m overwrite_encoded_chunks = kwargs.pop(\u001b[33m\"\u001b[39m\u001b[33moverwrite_encoded_chunks\u001b[39m\u001b[33m\"\u001b[39m, \u001b[38;5;28;01mNone\u001b[39;00m)\n\u001b[32m--> \u001b[39m\u001b[32m572\u001b[39m backend_ds = \u001b[43mbackend\u001b[49m\u001b[43m.\u001b[49m\u001b[43mopen_dataset\u001b[49m\u001b[43m(\u001b[49m\n\u001b[32m    573\u001b[39m \u001b[43m    \u001b[49m\u001b[43mfilename_or_obj\u001b[49m\u001b[43m,\u001b[49m\n\u001b[32m    574\u001b[39m \u001b[43m    \u001b[49m\u001b[43mdrop_variables\u001b[49m\u001b[43m=\u001b[49m\u001b[43mdrop_variables\u001b[49m\u001b[43m,\u001b[49m\n\u001b[32m    575\u001b[39m \u001b[43m    \u001b[49m\u001b[43m*\u001b[49m\u001b[43m*\u001b[49m\u001b[43mdecoders\u001b[49m\u001b[43m,\u001b[49m\n\u001b[32m    576\u001b[39m \u001b[43m    \u001b[49m\u001b[43m*\u001b[49m\u001b[43m*\u001b[49m\u001b[43mkwargs\u001b[49m\u001b[43m,\u001b[49m\n\u001b[32m    577\u001b[39m \u001b[43m\u001b[49m\u001b[43m)\u001b[49m\n\u001b[32m    578\u001b[39m ds = _dataset_from_backend_dataset(\n\u001b[32m    579\u001b[39m     backend_ds,\n\u001b[32m    580\u001b[39m     filename_or_obj,\n\u001b[32m   (...)\u001b[39m\u001b[32m    590\u001b[39m     **kwargs,\n\u001b[32m    591\u001b[39m )\n\u001b[32m    592\u001b[39m \u001b[38;5;28;01mreturn\u001b[39;00m ds\n",
      "\u001b[36mFile \u001b[39m\u001b[32m~/.conda/envs/satellite_pm25_raster2polygon/lib/python3.11/site-packages/xarray/backends/netCDF4_.py:593\u001b[39m, in \u001b[36mNetCDF4BackendEntrypoint.open_dataset\u001b[39m\u001b[34m(self, filename_or_obj, mask_and_scale, decode_times, concat_characters, decode_coords, drop_variables, use_cftime, decode_timedelta, group, mode, format, clobber, diskless, persist, lock, autoclose)\u001b[39m\n\u001b[32m    572\u001b[39m \u001b[38;5;28;01mdef\u001b[39;00m\u001b[38;5;250m \u001b[39m\u001b[34mopen_dataset\u001b[39m(  \u001b[38;5;66;03m# type: ignore[override]  # allow LSP violation, not supporting **kwargs\u001b[39;00m\n\u001b[32m    573\u001b[39m     \u001b[38;5;28mself\u001b[39m,\n\u001b[32m    574\u001b[39m     filename_or_obj: \u001b[38;5;28mstr\u001b[39m | os.PathLike[Any] | BufferedIOBase | AbstractDataStore,\n\u001b[32m   (...)\u001b[39m\u001b[32m    590\u001b[39m     autoclose=\u001b[38;5;28;01mFalse\u001b[39;00m,\n\u001b[32m    591\u001b[39m ) -> Dataset:\n\u001b[32m    592\u001b[39m     filename_or_obj = _normalize_path(filename_or_obj)\n\u001b[32m--> \u001b[39m\u001b[32m593\u001b[39m     store = \u001b[43mNetCDF4DataStore\u001b[49m\u001b[43m.\u001b[49m\u001b[43mopen\u001b[49m\u001b[43m(\u001b[49m\n\u001b[32m    594\u001b[39m \u001b[43m        \u001b[49m\u001b[43mfilename_or_obj\u001b[49m\u001b[43m,\u001b[49m\n\u001b[32m    595\u001b[39m \u001b[43m        \u001b[49m\u001b[43mmode\u001b[49m\u001b[43m=\u001b[49m\u001b[43mmode\u001b[49m\u001b[43m,\u001b[49m\n\u001b[32m    596\u001b[39m \u001b[43m        \u001b[49m\u001b[38;5;28;43mformat\u001b[39;49m\u001b[43m=\u001b[49m\u001b[38;5;28;43mformat\u001b[39;49m\u001b[43m,\u001b[49m\n\u001b[32m    597\u001b[39m \u001b[43m        \u001b[49m\u001b[43mgroup\u001b[49m\u001b[43m=\u001b[49m\u001b[43mgroup\u001b[49m\u001b[43m,\u001b[49m\n\u001b[32m    598\u001b[39m \u001b[43m        \u001b[49m\u001b[43mclobber\u001b[49m\u001b[43m=\u001b[49m\u001b[43mclobber\u001b[49m\u001b[43m,\u001b[49m\n\u001b[32m    599\u001b[39m \u001b[43m        \u001b[49m\u001b[43mdiskless\u001b[49m\u001b[43m=\u001b[49m\u001b[43mdiskless\u001b[49m\u001b[43m,\u001b[49m\n\u001b[32m    600\u001b[39m \u001b[43m        \u001b[49m\u001b[43mpersist\u001b[49m\u001b[43m=\u001b[49m\u001b[43mpersist\u001b[49m\u001b[43m,\u001b[49m\n\u001b[32m    601\u001b[39m \u001b[43m        \u001b[49m\u001b[43mlock\u001b[49m\u001b[43m=\u001b[49m\u001b[43mlock\u001b[49m\u001b[43m,\u001b[49m\n\u001b[32m    602\u001b[39m \u001b[43m        \u001b[49m\u001b[43mautoclose\u001b[49m\u001b[43m=\u001b[49m\u001b[43mautoclose\u001b[49m\u001b[43m,\u001b[49m\n\u001b[32m    603\u001b[39m \u001b[43m    \u001b[49m\u001b[43m)\u001b[49m\n\u001b[32m    605\u001b[39m     store_entrypoint = StoreBackendEntrypoint()\n\u001b[32m    606\u001b[39m     \u001b[38;5;28;01mwith\u001b[39;00m close_on_error(store):\n",
      "\u001b[36mFile \u001b[39m\u001b[32m~/.conda/envs/satellite_pm25_raster2polygon/lib/python3.11/site-packages/xarray/backends/netCDF4_.py:400\u001b[39m, in \u001b[36mNetCDF4DataStore.open\u001b[39m\u001b[34m(cls, filename, mode, format, group, clobber, diskless, persist, lock, lock_maker, autoclose)\u001b[39m\n\u001b[32m    394\u001b[39m kwargs = \u001b[38;5;28mdict\u001b[39m(\n\u001b[32m    395\u001b[39m     clobber=clobber, diskless=diskless, persist=persist, \u001b[38;5;28mformat\u001b[39m=\u001b[38;5;28mformat\u001b[39m\n\u001b[32m    396\u001b[39m )\n\u001b[32m    397\u001b[39m manager = CachingFileManager(\n\u001b[32m    398\u001b[39m     netCDF4.Dataset, filename, mode=mode, kwargs=kwargs\n\u001b[32m    399\u001b[39m )\n\u001b[32m--> \u001b[39m\u001b[32m400\u001b[39m \u001b[38;5;28;01mreturn\u001b[39;00m \u001b[38;5;28;43mcls\u001b[39;49m\u001b[43m(\u001b[49m\u001b[43mmanager\u001b[49m\u001b[43m,\u001b[49m\u001b[43m \u001b[49m\u001b[43mgroup\u001b[49m\u001b[43m=\u001b[49m\u001b[43mgroup\u001b[49m\u001b[43m,\u001b[49m\u001b[43m \u001b[49m\u001b[43mmode\u001b[49m\u001b[43m=\u001b[49m\u001b[43mmode\u001b[49m\u001b[43m,\u001b[49m\u001b[43m \u001b[49m\u001b[43mlock\u001b[49m\u001b[43m=\u001b[49m\u001b[43mlock\u001b[49m\u001b[43m,\u001b[49m\u001b[43m \u001b[49m\u001b[43mautoclose\u001b[49m\u001b[43m=\u001b[49m\u001b[43mautoclose\u001b[49m\u001b[43m)\u001b[49m\n",
      "\u001b[36mFile \u001b[39m\u001b[32m~/.conda/envs/satellite_pm25_raster2polygon/lib/python3.11/site-packages/xarray/backends/netCDF4_.py:347\u001b[39m, in \u001b[36mNetCDF4DataStore.__init__\u001b[39m\u001b[34m(self, manager, group, mode, lock, autoclose)\u001b[39m\n\u001b[32m    345\u001b[39m \u001b[38;5;28mself\u001b[39m._group = group\n\u001b[32m    346\u001b[39m \u001b[38;5;28mself\u001b[39m._mode = mode\n\u001b[32m--> \u001b[39m\u001b[32m347\u001b[39m \u001b[38;5;28mself\u001b[39m.format = \u001b[38;5;28;43mself\u001b[39;49m\u001b[43m.\u001b[49m\u001b[43mds\u001b[49m.data_model\n\u001b[32m    348\u001b[39m \u001b[38;5;28mself\u001b[39m._filename = \u001b[38;5;28mself\u001b[39m.ds.filepath()\n\u001b[32m    349\u001b[39m \u001b[38;5;28mself\u001b[39m.is_remote = is_remote_uri(\u001b[38;5;28mself\u001b[39m._filename)\n",
      "\u001b[36mFile \u001b[39m\u001b[32m~/.conda/envs/satellite_pm25_raster2polygon/lib/python3.11/site-packages/xarray/backends/netCDF4_.py:409\u001b[39m, in \u001b[36mNetCDF4DataStore.ds\u001b[39m\u001b[34m(self)\u001b[39m\n\u001b[32m    407\u001b[39m \u001b[38;5;129m@property\u001b[39m\n\u001b[32m    408\u001b[39m \u001b[38;5;28;01mdef\u001b[39;00m\u001b[38;5;250m \u001b[39m\u001b[34mds\u001b[39m(\u001b[38;5;28mself\u001b[39m):\n\u001b[32m--> \u001b[39m\u001b[32m409\u001b[39m     \u001b[38;5;28;01mreturn\u001b[39;00m \u001b[38;5;28;43mself\u001b[39;49m\u001b[43m.\u001b[49m\u001b[43m_acquire\u001b[49m\u001b[43m(\u001b[49m\u001b[43m)\u001b[49m\n",
      "\u001b[36mFile \u001b[39m\u001b[32m~/.conda/envs/satellite_pm25_raster2polygon/lib/python3.11/site-packages/xarray/backends/netCDF4_.py:403\u001b[39m, in \u001b[36mNetCDF4DataStore._acquire\u001b[39m\u001b[34m(self, needs_lock)\u001b[39m\n\u001b[32m    402\u001b[39m \u001b[38;5;28;01mdef\u001b[39;00m\u001b[38;5;250m \u001b[39m\u001b[34m_acquire\u001b[39m(\u001b[38;5;28mself\u001b[39m, needs_lock=\u001b[38;5;28;01mTrue\u001b[39;00m):\n\u001b[32m--> \u001b[39m\u001b[32m403\u001b[39m \u001b[43m    \u001b[49m\u001b[38;5;28;43;01mwith\u001b[39;49;00m\u001b[43m \u001b[49m\u001b[38;5;28;43mself\u001b[39;49m\u001b[43m.\u001b[49m\u001b[43m_manager\u001b[49m\u001b[43m.\u001b[49m\u001b[43macquire_context\u001b[49m\u001b[43m(\u001b[49m\u001b[43mneeds_lock\u001b[49m\u001b[43m)\u001b[49m\u001b[43m \u001b[49m\u001b[38;5;28;43;01mas\u001b[39;49;00m\u001b[43m \u001b[49m\u001b[43mroot\u001b[49m\u001b[43m:\u001b[49m\n\u001b[32m    404\u001b[39m \u001b[43m        \u001b[49m\u001b[43mds\u001b[49m\u001b[43m \u001b[49m\u001b[43m=\u001b[49m\u001b[43m \u001b[49m\u001b[43m_nc4_require_group\u001b[49m\u001b[43m(\u001b[49m\u001b[43mroot\u001b[49m\u001b[43m,\u001b[49m\u001b[43m \u001b[49m\u001b[38;5;28;43mself\u001b[39;49m\u001b[43m.\u001b[49m\u001b[43m_group\u001b[49m\u001b[43m,\u001b[49m\u001b[43m \u001b[49m\u001b[38;5;28;43mself\u001b[39;49m\u001b[43m.\u001b[49m\u001b[43m_mode\u001b[49m\u001b[43m)\u001b[49m\n\u001b[32m    405\u001b[39m     \u001b[38;5;28;01mreturn\u001b[39;00m ds\n",
      "\u001b[36mFile \u001b[39m\u001b[32m~/.conda/envs/satellite_pm25_raster2polygon/lib/python3.11/contextlib.py:137\u001b[39m, in \u001b[36m_GeneratorContextManager.__enter__\u001b[39m\u001b[34m(self)\u001b[39m\n\u001b[32m    135\u001b[39m \u001b[38;5;28;01mdel\u001b[39;00m \u001b[38;5;28mself\u001b[39m.args, \u001b[38;5;28mself\u001b[39m.kwds, \u001b[38;5;28mself\u001b[39m.func\n\u001b[32m    136\u001b[39m \u001b[38;5;28;01mtry\u001b[39;00m:\n\u001b[32m--> \u001b[39m\u001b[32m137\u001b[39m     \u001b[38;5;28;01mreturn\u001b[39;00m \u001b[38;5;28mnext\u001b[39m(\u001b[38;5;28mself\u001b[39m.gen)\n\u001b[32m    138\u001b[39m \u001b[38;5;28;01mexcept\u001b[39;00m \u001b[38;5;167;01mStopIteration\u001b[39;00m:\n\u001b[32m    139\u001b[39m     \u001b[38;5;28;01mraise\u001b[39;00m \u001b[38;5;167;01mRuntimeError\u001b[39;00m(\u001b[33m\"\u001b[39m\u001b[33mgenerator didn\u001b[39m\u001b[33m'\u001b[39m\u001b[33mt yield\u001b[39m\u001b[33m\"\u001b[39m) \u001b[38;5;28;01mfrom\u001b[39;00m\u001b[38;5;250m \u001b[39m\u001b[38;5;28;01mNone\u001b[39;00m\n",
      "\u001b[36mFile \u001b[39m\u001b[32m~/.conda/envs/satellite_pm25_raster2polygon/lib/python3.11/site-packages/xarray/backends/file_manager.py:199\u001b[39m, in \u001b[36mCachingFileManager.acquire_context\u001b[39m\u001b[34m(self, needs_lock)\u001b[39m\n\u001b[32m    196\u001b[39m \u001b[38;5;129m@contextlib\u001b[39m.contextmanager\n\u001b[32m    197\u001b[39m \u001b[38;5;28;01mdef\u001b[39;00m\u001b[38;5;250m \u001b[39m\u001b[34macquire_context\u001b[39m(\u001b[38;5;28mself\u001b[39m, needs_lock=\u001b[38;5;28;01mTrue\u001b[39;00m):\n\u001b[32m    198\u001b[39m \u001b[38;5;250m    \u001b[39m\u001b[33;03m\"\"\"Context manager for acquiring a file.\"\"\"\u001b[39;00m\n\u001b[32m--> \u001b[39m\u001b[32m199\u001b[39m     file, cached = \u001b[38;5;28;43mself\u001b[39;49m\u001b[43m.\u001b[49m\u001b[43m_acquire_with_cache_info\u001b[49m\u001b[43m(\u001b[49m\u001b[43mneeds_lock\u001b[49m\u001b[43m)\u001b[49m\n\u001b[32m    200\u001b[39m     \u001b[38;5;28;01mtry\u001b[39;00m:\n\u001b[32m    201\u001b[39m         \u001b[38;5;28;01myield\u001b[39;00m file\n",
      "\u001b[36mFile \u001b[39m\u001b[32m~/.conda/envs/satellite_pm25_raster2polygon/lib/python3.11/site-packages/xarray/backends/file_manager.py:217\u001b[39m, in \u001b[36mCachingFileManager._acquire_with_cache_info\u001b[39m\u001b[34m(self, needs_lock)\u001b[39m\n\u001b[32m    215\u001b[39m     kwargs = kwargs.copy()\n\u001b[32m    216\u001b[39m     kwargs[\u001b[33m\"\u001b[39m\u001b[33mmode\u001b[39m\u001b[33m\"\u001b[39m] = \u001b[38;5;28mself\u001b[39m._mode\n\u001b[32m--> \u001b[39m\u001b[32m217\u001b[39m file = \u001b[38;5;28;43mself\u001b[39;49m\u001b[43m.\u001b[49m\u001b[43m_opener\u001b[49m\u001b[43m(\u001b[49m\u001b[43m*\u001b[49m\u001b[38;5;28;43mself\u001b[39;49m\u001b[43m.\u001b[49m\u001b[43m_args\u001b[49m\u001b[43m,\u001b[49m\u001b[43m \u001b[49m\u001b[43m*\u001b[49m\u001b[43m*\u001b[49m\u001b[43mkwargs\u001b[49m\u001b[43m)\u001b[49m\n\u001b[32m    218\u001b[39m \u001b[38;5;28;01mif\u001b[39;00m \u001b[38;5;28mself\u001b[39m._mode == \u001b[33m\"\u001b[39m\u001b[33mw\u001b[39m\u001b[33m\"\u001b[39m:\n\u001b[32m    219\u001b[39m     \u001b[38;5;66;03m# ensure file doesn't get overridden when opened again\u001b[39;00m\n\u001b[32m    220\u001b[39m     \u001b[38;5;28mself\u001b[39m._mode = \u001b[33m\"\u001b[39m\u001b[33ma\u001b[39m\u001b[33m\"\u001b[39m\n",
      "\u001b[36mFile \u001b[39m\u001b[32msrc/netCDF4/_netCDF4.pyx:2469\u001b[39m, in \u001b[36mnetCDF4._netCDF4.Dataset.__init__\u001b[39m\u001b[34m()\u001b[39m\n",
      "\u001b[36mFile \u001b[39m\u001b[32msrc/netCDF4/_netCDF4.pyx:2028\u001b[39m, in \u001b[36mnetCDF4._netCDF4._ensure_nc_success\u001b[39m\u001b[34m()\u001b[39m\n",
      "\u001b[31mFileNotFoundError\u001b[39m: [Errno 2] No such file or directory: '/net/rcstorenfs02/ifs/rc_labs/dominici_lab/lab/data_processing/tinashe_pm25_washu_raster2polygon/pm25_washu_raster2polygon/data/input/pm25__washu__raw/monthly/V5GL04.HybridPM25c_0p10.NorthAmerica.202001-202001.nc'"
     ]
    }
   ],
   "source": [
    "#LOGGER.info(\"Mapping polygons to raster cells.\")\n",
    "\n",
    "ds = xarray.open_dataset(f\"../data/input/pm25__washu__raw/{cfg.temporal_freq}/{filenames[0]}\")"
   ]
  },
  {
   "cell_type": "code",
   "execution_count": null,
   "id": "cd0e9538",
   "metadata": {},
   "outputs": [],
   "source": [
    "layer = getattr(ds, cfg.satellite_pm25.layer)"
   ]
  },
  {
   "cell_type": "code",
   "execution_count": 13,
   "id": "8524be64",
   "metadata": {},
   "outputs": [],
   "source": [
    "# obtain affine transform/boundaries\n",
    "dims = layer.dims\n",
    "assert len(dims) == 2, \"netcdf coordinates must be 2d\"\n",
    "lon = layer[cfg.satellite_pm25.longitude_layer].values\n",
    "lat = layer[cfg.satellite_pm25.latitude_layer].values\n",
    "transform = rasterio.transform.from_origin(\n",
    "    lon[0], lat[-1], lon[1] - lon[0], lat[1] - lat[0]\n",
    ")\n",
    "\n",
    "# compute mapping\n",
    "poly2cells = polygon_to_raster_cells(\n",
    "    polygon,\n",
    "    layer.values[::-1],\n",
    "    affine=transform,\n",
    "    all_touched=True,\n",
    "    nodata=np.nan,\n",
    "    verbose=cfg.show_progress,\n",
    ")\n"
   ]
  },
  {
   "cell_type": "code",
   "execution_count": 16,
   "id": "4156fbb6",
   "metadata": {},
   "outputs": [
    {
     "name": "stdout",
     "output_type": "stream",
     "text": [
      "{'temporal_freq': 'monthly', 'year': 2020, 'polygon_name': 'zcta', 'shapefile_year': 2020, 'show_progress': False, 'plot_output': False, 'component': 'no3', 'datapaths': {'input': {'pm25__washu__raw': {'yearly': '/n/netscratch/dominici_lab/Lab/pm25__washu__raw/yearly/', 'monthly': '/n/netscratch/dominici_lab/Lab/pm25__washu__raw/monthly/'}, 'shapefiles': '/n/dominici_lab/lab/data_processing/jonathan_pm25_washu_raster2polygon/pm25_washu_raster2polygon/data/input/shapefiles'}, 'output': {'pm25__washu': {'zcta_yearly': '/n/dominici_lab/lab/lego/environmental/pm25__washu/zcta_yearly', 'zcta_monthly': '/n/dominici_lab/lab/lego/environmental/pm25__washu/zcta_monthly', 'county_yearly': '/n/dominici_lab/lab/lego/environmental/pm25__washu/county_yearly', 'county_monthly': '/n/dominici_lab/lab/lego/environmental/pm25__washu/county_monthly'}}}, 'shapefiles': {'census_tract': {2020: {'url': 'https://www2.census.gov/geo/tiger/GENZ2020/shp/cb_2020_us_tract_500k.zip', 'idvar': 'GEOID'}, 2021: {'url': 'https://www2.census.gov/geo/tiger/GENZ2021/shp/cb_2021_us_tract_500k.zip', 'idvar': 'GEOID'}, 2022: {'url': 'https://www2.census.gov/geo/tiger/GENZ2022/shp/cb_2022_us_tract_500k.zip', 'idvar': 'GEOID'}}, 'county': {2013: {'url': 'https://www2.census.gov/geo/tiger/GENZ2013/cb_2013_us_county_500k.zip', 'idvar': 'GEOID'}, 2014: {'url': 'https://www2.census.gov/geo/tiger/GENZ2014/shp/cb_2014_us_county_500k.zip', 'idvar': 'GEOID'}, 2015: {'url': 'https://www2.census.gov/geo/tiger/GENZ2015/shp/cb_2015_us_county_500k.zip', 'idvar': 'GEOID'}, 2016: {'url': 'https://www2.census.gov/geo/tiger/GENZ2016/shp/cb_2016_us_county_500k.zip', 'idvar': 'GEOID'}, 2017: {'url': 'https://www2.census.gov/geo/tiger/GENZ2017/shp/cb_2017_us_county_500k.zip', 'idvar': 'GEOID'}, 2018: {'url': 'https://www2.census.gov/geo/tiger/GENZ2018/shp/cb_2018_us_county_500k.zip', 'idvar': 'GEOID'}, 2019: {'url': 'https://www2.census.gov/geo/tiger/GENZ2019/shp/cb_2019_us_county_500k.zip', 'idvar': 'GEOID'}, 2020: {'url': 'https://www2.census.gov/geo/tiger/GENZ2020/shp/cb_2020_us_county_500k.zip', 'idvar': 'GEOID'}, 2021: {'url': 'https://www2.census.gov/geo/tiger/GENZ2021/shp/cb_2021_us_county_500k.zip', 'idvar': 'GEOID'}, 2022: {'url': 'https://www2.census.gov/geo/tiger/GENZ2022/shp/cb_2022_us_county_500k.zip', 'idvar': 'GEOID'}}, 'zcta': {2000: {'url': 'https://www2.census.gov/geo/tiger/GENZ2010/gz_2010_us_860_00_500k.zip', 'idvar': 'ZCTA5'}, 2010: {'url': 'https://www2.census.gov/geo/tiger/GENZ2019/shp/cb_2019_us_zcta510_500k.zip', 'idvar': 'ZCTA5CE10'}, 2020: {'url': 'https://www2.census.gov/geo/tiger/GENZ2020/shp/cb_2020_us_zcta520_500k.zip', 'idvar': 'ZCTA5CE20'}}}, 'satellite_pm25': {'yearly': {'url': 'https://wustl.app.box.com/v/ACAG-V5GL04-GWRPM25c0p10/folder/237172657388', 'zipname': 'Annual', 'file_prefix': 'V5GL04.HybridPM25c_0p10.NorthAmerica'}, 'monthly': {'url': 'https://wustl.app.box.com/v/ACAG-V5GL04-GWRPM25c0p10/folder/237170622689', 'zipname': 'Monthly', 'file_prefix': 'V5GL04.HybridPM25c_0p10.NorthAmerica'}, 'layer': 'GWRPM25', 'latitude_layer': 'lat', 'longitude_layer': 'lon'}, 'satellite_component': {'yearly': None, 'monthly': {'url': {'no3': 'https://wustl.app.box.com/s/tfyt4uyuzbt4hbnw7bhos16aep9b5u7g/folder/257359597790', 'pm25': 'https://wustl.app.box.com/s/tfyt4uyuzbt4hbnw7bhos16aep9b5u7g/folder/251944780084', 'so4': 'https://wustl.app.box.com/s/tfyt4uyuzbt4hbnw7bhos16aep9b5u7g/folder/257342958891', 'ss': 'https://wustl.app.box.com/s/tfyt4uyuzbt4hbnw7bhos16aep9b5u7g/folder/257399814162', 'nh4': 'https://wustl.app.box.com/s/tfyt4uyuzbt4hbnw7bhos16aep9b5u7g/folder/257348671048', 'dust': 'https://wustl.app.box.com/s/tfyt4uyuzbt4hbnw7bhos16aep9b5u7g/folder/257380016906', 'bc': 'https://wustl.app.box.com/s/tfyt4uyuzbt4hbnw7bhos16aep9b5u7g/folder/257377372368', 'om': 'https://wustl.app.box.com/s/tfyt4uyuzbt4hbnw7bhos16aep9b5u7g/folder/257368204252'}, 'zipname': 'Monthly'}, 'layer': '???', 'latitude_layer': 'lat', 'longitude_layer': 'lon', 'component': 'no3'}}\n"
     ]
    }
   ],
   "source": [
    "print(cfg)"
   ]
  },
  {
   "cell_type": "code",
   "execution_count": 15,
   "id": "f6a42064",
   "metadata": {},
   "outputs": [
    {
     "name": "stderr",
     "output_type": "stream",
     "text": [
      "INFO:__main__:Aggregating V5GL04.HybridPM25c_0p10.NorthAmerica.202001-202001.nc\n",
      "INFO:__main__:Aggregating V5GL04.HybridPM25c_0p10.NorthAmerica.202002-202002.nc\n",
      "INFO:__main__:Aggregating V5GL04.HybridPM25c_0p10.NorthAmerica.202003-202003.nc\n",
      "INFO:__main__:Aggregating V5GL04.HybridPM25c_0p10.NorthAmerica.202004-202004.nc\n",
      "INFO:__main__:Aggregating V5GL04.HybridPM25c_0p10.NorthAmerica.202005-202005.nc\n",
      "INFO:__main__:Aggregating V5GL04.HybridPM25c_0p10.NorthAmerica.202006-202006.nc\n",
      "INFO:__main__:Aggregating V5GL04.HybridPM25c_0p10.NorthAmerica.202007-202007.nc\n",
      "INFO:__main__:Aggregating V5GL04.HybridPM25c_0p10.NorthAmerica.202008-202008.nc\n",
      "INFO:__main__:Aggregating V5GL04.HybridPM25c_0p10.NorthAmerica.202009-202009.nc\n",
      "INFO:__main__:Aggregating V5GL04.HybridPM25c_0p10.NorthAmerica.202010-202010.nc\n",
      "INFO:__main__:Aggregating V5GL04.HybridPM25c_0p10.NorthAmerica.202011-202011.nc\n",
      "INFO:__main__:Aggregating V5GL04.HybridPM25c_0p10.NorthAmerica.202012-202012.nc\n"
     ]
    }
   ],
   "source": [
    "for i, filename in enumerate(filenames):\n",
    "    LOGGER.info(f\"Aggregating {filename}\")"
   ]
  },
  {
   "cell_type": "code",
   "execution_count": null,
   "id": "8672ea3f",
   "metadata": {},
   "outputs": [],
   "source": []
  }
 ],
 "metadata": {
  "kernelspec": {
   "display_name": "satellite_pm25_raster2polygon",
   "language": "python",
   "name": "python3"
  },
  "language_info": {
   "codemirror_mode": {
    "name": "ipython",
    "version": 3
   },
   "file_extension": ".py",
   "mimetype": "text/x-python",
   "name": "python",
   "nbconvert_exporter": "python",
   "pygments_lexer": "ipython3",
   "version": "3.11.13"
  }
 },
 "nbformat": 4,
 "nbformat_minor": 5
}
